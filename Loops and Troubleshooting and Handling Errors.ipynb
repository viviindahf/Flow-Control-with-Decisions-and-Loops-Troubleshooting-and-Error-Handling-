{
  "nbformat": 4,
  "nbformat_minor": 0,
  "metadata": {
    "colab": {
      "name": "Tugas_Portofolio_4.ipynb",
      "provenance": [],
      "collapsed_sections": []
    },
    "kernelspec": {
      "name": "python3",
      "display_name": "Python 3"
    },
    "language_info": {
      "name": "python"
    }
  },
  "cells": [
    {
      "cell_type": "markdown",
      "source": [
        "In this module, there are 2 parts will be discussed:\n",
        "1. Flow Control with Decisions and Loops\n",
        "2. Troubleshooting and Error Handling"
      ],
      "metadata": {
        "id": "9BgMTA8106xl"
      }
    },
    {
      "cell_type": "markdown",
      "source": [
        "# Part 1 : Flow Control with Decisions and Loops"
      ],
      "metadata": {
        "id": "OHcFJEdXzHaU"
      }
    },
    {
      "cell_type": "markdown",
      "source": [
        "# For\n",
        "\n",
        "- For is a function that can loop over each type of variable in the form of a collection or sequence (list, string, or range).\n",
        "- If a list or sequence contains an expression, it will evaluate it first.\n",
        "- Then the first item in the sequence/list will be assigned as an iterating_var variable, and then it will continue to the next item until it runs out."
      ],
      "metadata": {
        "id": "druKPXa5f30h"
      }
    },
    {
      "cell_type": "markdown",
      "source": [
        ""
      ],
      "metadata": {
        "id": "sWOWZatXf9U5"
      }
    },
    {
      "cell_type": "code",
      "source": [
        "color = ['White', 'Yellow', 'Green', 'Brown', 'Black']\n",
        "\n",
        "for _ in color:\n",
        "  print(\"The color is {}\".format(_))"
      ],
      "metadata": {
        "id": "2KpcFSAUhEim",
        "outputId": "18d8f764-7a9a-4569-d14e-a173095df108",
        "colab": {
          "base_uri": "https://localhost:8080/"
        }
      },
      "execution_count": null,
      "outputs": [
        {
          "output_type": "stream",
          "name": "stdout",
          "text": [
            "The color is White\n",
            "The color is Yellow\n",
            "The color is Green\n",
            "The color is Brown\n",
            "The color is Black\n"
          ]
        }
      ]
    },
    {
      "cell_type": "markdown",
      "source": [
        "**Else After For**\n",
        "\n",
        "The else function after for is a function that takes precedence over search loops to provide a way out of the program when the search is not found"
      ],
      "metadata": {
        "id": "QnEw6-9vV-Bk"
      }
    },
    {
      "cell_type": "code",
      "source": [
        "for i in range(1,8):\n",
        "    if i% 2 == 1:\n",
        "       print(\"{} adalah bilangan ganjil\".format(i))\n",
        "       continue\n",
        "    else:\n",
        "        print(\"{} adalah bukan bilangan ganjil\".format(i))"
      ],
      "metadata": {
        "colab": {
          "base_uri": "https://localhost:8080/"
        },
        "id": "O_DxVUBqYbQL",
        "outputId": "4b2d8136-1ba0-4bd6-fd2f-1985b196856f"
      },
      "execution_count": null,
      "outputs": [
        {
          "output_type": "stream",
          "name": "stdout",
          "text": [
            "1 adalah bilangan ganjil\n",
            "2 adalah bukan bilangan ganjil\n",
            "3 adalah bilangan ganjil\n",
            "4 adalah bukan bilangan ganjil\n",
            "5 adalah bilangan ganjil\n",
            "6 adalah bukan bilangan ganjil\n",
            "7 adalah bilangan ganjil\n"
          ]
        }
      ]
    },
    {
      "cell_type": "markdown",
      "source": [
        "**Nested Loop**"
      ],
      "metadata": {
        "id": "UrlZ3ZwgmpNg"
      }
    },
    {
      "cell_type": "markdown",
      "source": [
        "A nested loop is a loop inside the body of the outer loop. The inner or outer loop can be any type, such as a while loop or for loop. For example, the outer for loop can contain a while loop and vice versa."
      ],
      "metadata": {
        "id": "tt8C4awLmxfP"
      }
    },
    {
      "cell_type": "markdown",
      "source": [
        "Example of making a pattern in the shape of the letter \"C\""
      ],
      "metadata": {
        "id": "LaiBPZO4nQNL"
      }
    },
    {
      "cell_type": "code",
      "source": [
        "for row in range(4):\n",
        "  for col in range(4):\n",
        "    if row == 0 and col <= 3:\n",
        "      print(\"*\", end = \" \")\n",
        "    elif row == 1 and col == 0:\n",
        "      print(\"*\", end = \" \")\n",
        "    elif row == 2 and col == 0:\n",
        "      print(\"*\", end = \" \")\n",
        "    elif row == 3 and col <= 3:\n",
        "      print(\"*\", end = \" \")\n",
        "\n",
        "  print()"
      ],
      "metadata": {
        "colab": {
          "base_uri": "https://localhost:8080/"
        },
        "id": "itvEIkMUkhCf",
        "outputId": "85f06f60-962c-47a8-979f-b77041651b58"
      },
      "execution_count": null,
      "outputs": [
        {
          "output_type": "stream",
          "name": "stdout",
          "text": [
            "* * * * \n",
            "* \n",
            "* \n",
            "* * * * \n"
          ]
        }
      ]
    },
    {
      "cell_type": "markdown",
      "source": [
        "# While"
      ],
      "metadata": {
        "id": "CX9GrXnvcQAt"
      }
    },
    {
      "cell_type": "markdown",
      "source": [
        "- While in Python is used to execute statements as long as the condition as long as the test expression (condition) is true.\n",
        "- The condition can be any expression and includes all non-zero values.\n",
        "- When the condition becomes False, the program will continue to the line after the statement block."
      ],
      "metadata": {
        "id": "i08c48wd9hdu"
      }
    },
    {
      "cell_type": "code",
      "source": [
        "number = int(input())\n",
        "\n",
        "while (number < 5): # executed number cannot be more than 5\n",
        "  number =  number**2 # executed number will be squared\n",
        "  print('number {}'.format(number))"
      ],
      "metadata": {
        "colab": {
          "base_uri": "https://localhost:8080/"
        },
        "id": "vF_S4ncS9m9j",
        "outputId": "0cb65545-00de-4ab2-99fe-f9874134bfeb"
      },
      "execution_count": null,
      "outputs": [
        {
          "output_type": "stream",
          "name": "stdout",
          "text": [
            "2\n",
            "number 4\n",
            "number 16\n"
          ]
        }
      ]
    },
    {
      "cell_type": "markdown",
      "source": [
        "**Else After While**\n",
        "\n",
        "In the while statement, the else blok statement will always be executed when the while condition is false"
      ],
      "metadata": {
        "id": "yYL2rU9QcUT6"
      }
    },
    {
      "cell_type": "code",
      "source": [
        "number = int(input())\n",
        "\n",
        "while (number<20):\n",
        "  number = number + 2\n",
        "  print(number)\n",
        "else :\n",
        "  print(\"loop completed\")"
      ],
      "metadata": {
        "colab": {
          "base_uri": "https://localhost:8080/"
        },
        "id": "sAQYiFbjlFhi",
        "outputId": "00576391-68b4-4bd2-d9cb-560bb100249f"
      },
      "execution_count": null,
      "outputs": [
        {
          "output_type": "stream",
          "name": "stdout",
          "text": [
            "2\n",
            "4\n",
            "6\n",
            "8\n",
            "10\n",
            "12\n",
            "14\n",
            "16\n",
            "18\n",
            "20\n",
            "loop completed\n"
          ]
        }
      ]
    },
    {
      "cell_type": "markdown",
      "source": [
        "# Break"
      ],
      "metadata": {
        "id": "DE6nI14dYidK"
      }
    },
    {
      "cell_type": "markdown",
      "source": [
        "- The break statement ends the loop containing it. Program control flows to the statement immediately after the loop body.\n",
        "\n",
        "- If the break statement is inside a nested loop (a loop inside another loop), the break statement ends the loop according to the level or in which loop it is."
      ],
      "metadata": {
        "id": "lQHjvftMYt_-"
      }
    },
    {
      "cell_type": "code",
      "source": [
        "for number in range(15): # Constructs the variable number is less than 15.\n",
        "  if number == 7:\n",
        "    break # Integer will be breaks when it equivalent 7\n",
        "  print(\"Number is {}\".format(number)) # .format to enter variable number"
      ],
      "metadata": {
        "colab": {
          "base_uri": "https://localhost:8080/"
        },
        "id": "lmYRNrQLYvBq",
        "outputId": "e0ad195a-f6ec-414a-c923-ba1128019ee0"
      },
      "execution_count": null,
      "outputs": [
        {
          "output_type": "stream",
          "name": "stdout",
          "text": [
            "Number is 0\n",
            "Number is 1\n",
            "Number is 2\n",
            "Number is 3\n",
            "Number is 4\n",
            "Number is 5\n",
            "Number is 6\n"
          ]
        }
      ]
    },
    {
      "cell_type": "code",
      "source": [
        "for marvel in \"Avengers: Endgame\":\n",
        "  if marvel == \":\":\n",
        "    break\n",
        "  print(marvel, end = \"\")"
      ],
      "metadata": {
        "colab": {
          "base_uri": "https://localhost:8080/"
        },
        "id": "0Kex9x7Lctxv",
        "outputId": "eaca2c4e-d106-41e0-d435-28555097e222"
      },
      "execution_count": null,
      "outputs": [
        {
          "output_type": "stream",
          "name": "stdout",
          "text": [
            "Avengers"
          ]
        }
      ]
    },
    {
      "cell_type": "markdown",
      "source": [
        "# Continue"
      ],
      "metadata": {
        "id": "SW2Qkx6U_ui6"
      }
    },
    {
      "cell_type": "markdown",
      "source": [
        "- The continue statement is used to skip the rest of the code (statement) inside a loop for the current iteration only. \n",
        "- Loop does not terminate but continues on with the next iteration."
      ],
      "metadata": {
        "id": "0a8ma7l9_x8m"
      }
    },
    {
      "cell_type": "code",
      "source": [
        "sentence = \"I want to eat something\"\n",
        "vokal = ['a','i','u','e','o']\n",
        "\n",
        "for word in sentence:\n",
        "  if word in vokal:\n",
        "    continue\n",
        "  print(word)"
      ],
      "metadata": {
        "colab": {
          "base_uri": "https://localhost:8080/"
        },
        "id": "aewJYHJMEIbg",
        "outputId": "dce9899d-71c7-4bcc-b5dd-8ee6b8b588ae"
      },
      "execution_count": null,
      "outputs": [
        {
          "output_type": "stream",
          "name": "stdout",
          "text": [
            "I\n",
            " \n",
            "w\n",
            "n\n",
            "t\n",
            " \n",
            "t\n",
            " \n",
            "t\n",
            " \n",
            "s\n",
            "m\n",
            "t\n",
            "h\n",
            "n\n",
            "g\n"
          ]
        }
      ]
    },
    {
      "cell_type": "code",
      "source": [
        "sentence = \"I want to eat something\"\n",
        "vokal = ['a','i','u','e','o']\n",
        "\n",
        "for word in sentence:\n",
        "  if word in vokal:\n",
        "    continue\n",
        "  print(word, end = \" \") #end makes the sentence print sideways, the original sentence will be printed down"
      ],
      "metadata": {
        "colab": {
          "base_uri": "https://localhost:8080/"
        },
        "id": "PuyBtHJXCr-c",
        "outputId": "8e09542d-7bc5-45d7-f6fc-7cf2f717c5e3"
      },
      "execution_count": null,
      "outputs": [
        {
          "output_type": "stream",
          "name": "stdout",
          "text": [
            "I   w n t   t   t   s m t h n g "
          ]
        }
      ]
    },
    {
      "cell_type": "markdown",
      "source": [
        "# Pass\n",
        "\n",
        "\n"
      ],
      "metadata": {
        "id": "7faeKLY6A6Ws"
      }
    },
    {
      "cell_type": "markdown",
      "source": [
        "*   The pass statement is used as a placeholder for future code.\n",
        "*   When the pass statement is executed, nothing happens, but you avoid getting an error when empty code is not allowed.\n",
        "-  The pass statement is a null(empty) operation, nothing happens when the pass is executed.\n",
        "\n"
      ],
      "metadata": {
        "id": "PdGbfphuZSm_"
      }
    },
    {
      "cell_type": "code",
      "source": [
        "import sys\n",
        "\n",
        "x = ''\n",
        "\n",
        "while(x != \"close\"):\n",
        "  try:\n",
        "    x = (input(\"peroleh: \"))\n",
        "    print('dapat angka {}'.format(int(x)))\n",
        "  except:\n",
        "    if x == \"close\":\n",
        "        pass\n",
        "    else:\n",
        "        print('dapat error {}'.format(sys.exc_info()[0]))"
      ],
      "metadata": {
        "id": "eopX6WlNDRKl",
        "colab": {
          "base_uri": "https://localhost:8080/"
        },
        "outputId": "4c080b8a-7a96-4089-ab05-8f2d30177736"
      },
      "execution_count": null,
      "outputs": [
        {
          "name": "stdout",
          "output_type": "stream",
          "text": [
            "peroleh: 1\n",
            "dapat angka 1\n",
            "peroleh: 3\n",
            "dapat angka 3\n",
            "peroleh: 5\n",
            "dapat angka 5\n",
            "peroleh: close\n"
          ]
        }
      ]
    },
    {
      "cell_type": "markdown",
      "source": [
        "# List Comprehension\n",
        "\n",
        "List comprehensions are used for creating new lists from other iterables like tuples, strings, arrays, lists, etc. A list comprehension consists of brackets containing the expression, which is executed for each element along with the for loop to iterate over each element. "
      ],
      "metadata": {
        "id": "NEupZ3EmTYiD"
      }
    },
    {
      "cell_type": "code",
      "source": [
        "numbers = [3,5,6,8,10]"
      ],
      "metadata": {
        "id": "fAEkPThGUMae"
      },
      "execution_count": null,
      "outputs": []
    },
    {
      "cell_type": "code",
      "source": [
        "squared = []"
      ],
      "metadata": {
        "id": "NJRPuJvlUpJ6"
      },
      "execution_count": null,
      "outputs": []
    },
    {
      "cell_type": "code",
      "source": [
        "for x in numbers:\n",
        "  squared.append(x**3)\n",
        "print(squared)"
      ],
      "metadata": {
        "colab": {
          "base_uri": "https://localhost:8080/"
        },
        "id": "ZHPxAbGMUscU",
        "outputId": "6fe75498-da4e-4df7-e804-80dcfa1436ad"
      },
      "execution_count": null,
      "outputs": [
        {
          "output_type": "stream",
          "name": "stdout",
          "text": [
            "[27, 125, 216, 512, 1000]\n"
          ]
        }
      ]
    },
    {
      "cell_type": "markdown",
      "source": [
        "You can also write list comprehensions in the following way :\n",
        "\n",
        "new_list = [expression for loop_one_or_more_conditions]"
      ],
      "metadata": {
        "id": "Tekv9gvLjSys"
      }
    },
    {
      "cell_type": "code",
      "source": [
        "abc = ['a','b','c']\n",
        "cde = ['c','d','e']\n",
        "\n",
        "duplicate = [i for i in abc for j in cde if i == j]\n",
        "\n",
        "print(duplicate)"
      ],
      "metadata": {
        "colab": {
          "base_uri": "https://localhost:8080/"
        },
        "id": "Km7PcaW3jei5",
        "outputId": "39471a7d-af4a-4989-d27c-c66cb8a8ed0e"
      },
      "execution_count": null,
      "outputs": [
        {
          "output_type": "stream",
          "name": "stdout",
          "text": [
            "['c']\n"
          ]
        }
      ]
    },
    {
      "cell_type": "markdown",
      "source": [
        "we can also add upper() function to list comprehension"
      ],
      "metadata": {
        "id": "DqTKRDb1mkOK"
      }
    },
    {
      "cell_type": "code",
      "source": [
        "data = [\"data\",\"analysis\"]\n",
        "\n",
        "upper = [_.upper() for _ in data]\n",
        "\n",
        "print(upper)"
      ],
      "metadata": {
        "colab": {
          "base_uri": "https://localhost:8080/"
        },
        "id": "ilpX-YwamhAc",
        "outputId": "9f3f18b8-49c5-4ff3-bdd5-1bf26af92847"
      },
      "execution_count": null,
      "outputs": [
        {
          "output_type": "stream",
          "name": "stdout",
          "text": [
            "['DATA', 'ANALYSIS']\n"
          ]
        }
      ]
    },
    {
      "cell_type": "markdown",
      "source": [
        "# List Comprehension (List With Inline Loop and If)\n",
        "\n",
        "\n",
        "\n"
      ],
      "metadata": {
        "id": "E4mgj3dcDgUe"
      }
    },
    {
      "cell_type": "code",
      "source": [
        "Animals = []\n",
        "\n",
        "for x in 'Zebra':\n",
        "    Animals.append(x)\n",
        "\n",
        "print(Animals)"
      ],
      "metadata": {
        "colab": {
          "base_uri": "https://localhost:8080/"
        },
        "id": "67Gle44VFCA-",
        "outputId": "e99b63fb-5323-4ce4-e1ac-bede4a8fa45d"
      },
      "execution_count": null,
      "outputs": [
        {
          "output_type": "stream",
          "name": "stdout",
          "text": [
            "['Z', 'e', 'b', 'r', 'a']\n"
          ]
        }
      ]
    },
    {
      "cell_type": "markdown",
      "source": [
        "You can also modify the syntax so it can be like this"
      ],
      "metadata": {
        "id": "XMVndSJGGFyG"
      }
    },
    {
      "cell_type": "code",
      "source": [
        "Animals = [ x for x in 'Chicken' ]\n",
        "print(Animals)"
      ],
      "metadata": {
        "colab": {
          "base_uri": "https://localhost:8080/"
        },
        "id": "f21aVyDVFd77",
        "outputId": "efdd3721-015e-432f-8b55-1296b711ff33"
      },
      "execution_count": null,
      "outputs": [
        {
          "output_type": "stream",
          "name": "stdout",
          "text": [
            "['C', 'h', 'i', 'c', 'k', 'e', 'n']\n"
          ]
        }
      ]
    },
    {
      "cell_type": "markdown",
      "source": [
        "- Inline Loop and If\n",
        "\n",
        "\n"
      ],
      "metadata": {
        "id": "cY-v5lc4GXoL"
      }
    },
    {
      "cell_type": "code",
      "source": [
        "number_list = [ x for x in range(10) if x % 2 == 0] #will be show numbers in range from 0-9 if the numbers value is divisible by 2.\n",
        "print(number_list)"
      ],
      "metadata": {
        "colab": {
          "base_uri": "https://localhost:8080/"
        },
        "id": "l2DFl1ixGlWR",
        "outputId": "38bdceb9-934f-4bd6-941c-8dda634f063a"
      },
      "execution_count": null,
      "outputs": [
        {
          "output_type": "stream",
          "name": "stdout",
          "text": [
            "[0, 2, 4, 6, 8]\n"
          ]
        }
      ]
    },
    {
      "cell_type": "code",
      "source": [
        "number = [y for y in range(50) if y % 2 == 0 if y % 5 == 0] #will be show numbers in range 0-49 if the numbers value is divisible by 2 and then divisible by 5\n",
        "print(number)"
      ],
      "metadata": {
        "colab": {
          "base_uri": "https://localhost:8080/"
        },
        "id": "_BSt8RFsI7om",
        "outputId": "aa1c1934-ced1-4275-a928-5a392c711941"
      },
      "execution_count": null,
      "outputs": [
        {
          "output_type": "stream",
          "name": "stdout",
          "text": [
            "[0, 10, 20, 30, 40]\n"
          ]
        }
      ]
    },
    {
      "cell_type": "markdown",
      "source": [
        "# Part 2 : Troubleshooting and Error Handling"
      ],
      "metadata": {
        "id": "OQamo8Uf0N_X"
      }
    },
    {
      "cell_type": "markdown",
      "source": [
        "There are two types of errors in phyton:\n",
        "1. Syntax Errors,\n",
        "2. Exceptions"
      ],
      "metadata": {
        "id": "ZSofyQNAJY_2"
      }
    },
    {
      "cell_type": "markdown",
      "source": [
        "# Syntax Error\n",
        "\n",
        "It usually happens when python does not understand what you are commanding and generally in people are still just learning python."
      ],
      "metadata": {
        "id": "9vOfjBAlJqOo"
      }
    },
    {
      "cell_type": "markdown",
      "source": [
        "the following example will show one of the errors that is the incorrect placement of the indent"
      ],
      "metadata": {
        "id": "IBz1JbkpKn6j"
      }
    },
    {
      "cell_type": "code",
      "source": [
        "for x in \"Data Science Track with MyEduSolve\":\n",
        "print(x)"
      ],
      "metadata": {
        "colab": {
          "base_uri": "https://localhost:8080/",
          "height": 130
        },
        "id": "GkQbg164JnuR",
        "outputId": "6f56ae17-c8ac-4645-fcc8-f22c2be2c2c3"
      },
      "execution_count": null,
      "outputs": [
        {
          "output_type": "error",
          "ename": "IndentationError",
          "evalue": "ignored",
          "traceback": [
            "\u001b[0;36m  File \u001b[0;32m\"<ipython-input-7-3fb7fd193e2e>\"\u001b[0;36m, line \u001b[0;32m2\u001b[0m\n\u001b[0;31m    print(x)\u001b[0m\n\u001b[0m        ^\u001b[0m\n\u001b[0;31mIndentationError\u001b[0m\u001b[0;31m:\u001b[0m expected an indented block\n"
          ]
        }
      ]
    },
    {
      "cell_type": "markdown",
      "source": [
        "The following example shows syntax writing errors"
      ],
      "metadata": {
        "id": "PsAPtCbWLTj7"
      }
    },
    {
      "cell_type": "code",
      "source": [
        "while True print('Hello world')"
      ],
      "metadata": {
        "colab": {
          "base_uri": "https://localhost:8080/",
          "height": 130
        },
        "id": "IASvfYU5LMBN",
        "outputId": "b89987cf-7165-4a01-9f6d-4ff35896bc6f"
      },
      "execution_count": null,
      "outputs": [
        {
          "output_type": "error",
          "ename": "SyntaxError",
          "evalue": "ignored",
          "traceback": [
            "\u001b[0;36m  File \u001b[0;32m\"<ipython-input-8-2b688bc740d7>\"\u001b[0;36m, line \u001b[0;32m1\u001b[0m\n\u001b[0;31m    while True print('Hello world')\u001b[0m\n\u001b[0m                   ^\u001b[0m\n\u001b[0;31mSyntaxError\u001b[0m\u001b[0;31m:\u001b[0m invalid syntax\n"
          ]
        }
      ]
    },
    {
      "cell_type": "code",
      "source": [
        "print('Hello World\")"
      ],
      "metadata": {
        "colab": {
          "base_uri": "https://localhost:8080/",
          "height": 130
        },
        "id": "n09P-HiqOWLu",
        "outputId": "73bdb155-e162-4366-8f5e-d5e168a689b4"
      },
      "execution_count": null,
      "outputs": [
        {
          "output_type": "error",
          "ename": "SyntaxError",
          "evalue": "ignored",
          "traceback": [
            "\u001b[0;36m  File \u001b[0;32m\"<ipython-input-13-91c08de83dce>\"\u001b[0;36m, line \u001b[0;32m1\u001b[0m\n\u001b[0;31m    print('Hello World\")\u001b[0m\n\u001b[0m                        ^\u001b[0m\n\u001b[0;31mSyntaxError\u001b[0m\u001b[0;31m:\u001b[0m EOL while scanning string literal\n"
          ]
        }
      ]
    },
    {
      "cell_type": "markdown",
      "source": [
        "# Exceptions\n",
        "\n",
        "Exceptions can occur when an error occurs when the command we entered is executed and will be fatal if not addressed immediately.\n",
        "\n"
      ],
      "metadata": {
        "id": "rpe54OHXMS7n"
      }
    },
    {
      "cell_type": "markdown",
      "source": [
        "A simple example of this error when we forget to specify a variable but we call the variable"
      ],
      "metadata": {
        "id": "xqXriKbBM12p"
      }
    },
    {
      "cell_type": "code",
      "source": [
        "print(task)"
      ],
      "metadata": {
        "colab": {
          "base_uri": "https://localhost:8080/",
          "height": 165
        },
        "id": "_pcFrLhcMbF5",
        "outputId": "b1230ef5-17f1-401c-9370-f8d729d5d3db"
      },
      "execution_count": null,
      "outputs": [
        {
          "output_type": "error",
          "ename": "NameError",
          "evalue": "ignored",
          "traceback": [
            "\u001b[0;31m---------------------------------------------------------------------------\u001b[0m",
            "\u001b[0;31mNameError\u001b[0m                                 Traceback (most recent call last)",
            "\u001b[0;32m<ipython-input-11-68d7db0c3722>\u001b[0m in \u001b[0;36m<module>\u001b[0;34m()\u001b[0m\n\u001b[0;32m----> 1\u001b[0;31m \u001b[0mprint\u001b[0m\u001b[0;34m(\u001b[0m\u001b[0mtask\u001b[0m\u001b[0;34m)\u001b[0m\u001b[0;34m\u001b[0m\u001b[0;34m\u001b[0m\u001b[0m\n\u001b[0m",
            "\u001b[0;31mNameError\u001b[0m: name 'task' is not defined"
          ]
        }
      ]
    },
    {
      "cell_type": "markdown",
      "source": [
        "Next example when we operate between integer type variables with strings"
      ],
      "metadata": {
        "id": "nmm9nXpiNMgt"
      }
    },
    {
      "cell_type": "code",
      "source": [
        "nilai = \"5\"\n",
        "nilai + 3"
      ],
      "metadata": {
        "colab": {
          "base_uri": "https://localhost:8080/",
          "height": 183
        },
        "id": "rwHVqREYNb4u",
        "outputId": "2703bd91-bcdc-4b3e-fca0-bb2fad103161"
      },
      "execution_count": null,
      "outputs": [
        {
          "output_type": "error",
          "ename": "TypeError",
          "evalue": "ignored",
          "traceback": [
            "\u001b[0;31m---------------------------------------------------------------------------\u001b[0m",
            "\u001b[0;31mTypeError\u001b[0m                                 Traceback (most recent call last)",
            "\u001b[0;32m<ipython-input-12-f777dc69d5fd>\u001b[0m in \u001b[0;36m<module>\u001b[0;34m()\u001b[0m\n\u001b[1;32m      1\u001b[0m \u001b[0mnilai\u001b[0m \u001b[0;34m=\u001b[0m \u001b[0;34m\"5\"\u001b[0m\u001b[0;34m\u001b[0m\u001b[0;34m\u001b[0m\u001b[0m\n\u001b[0;32m----> 2\u001b[0;31m \u001b[0mnilai\u001b[0m \u001b[0;34m+\u001b[0m \u001b[0;36m3\u001b[0m\u001b[0;34m\u001b[0m\u001b[0;34m\u001b[0m\u001b[0m\n\u001b[0m",
            "\u001b[0;31mTypeError\u001b[0m: can only concatenate str (not \"int\") to str"
          ]
        }
      ]
    },
    {
      "cell_type": "markdown",
      "source": [
        "# Exception Handling"
      ],
      "metadata": {
        "id": "76N7unAcHx6K"
      }
    },
    {
      "cell_type": "markdown",
      "source": [
        "The exception handling process uses a try statement paired with except. For example we want to handle an exception that occurs if there is a division of a number by the value 0 (0)"
      ],
      "metadata": {
        "id": "inItIY_BT_3L"
      }
    },
    {
      "cell_type": "code",
      "source": [
        "x = 0"
      ],
      "metadata": {
        "id": "JpkxmpluUMML"
      },
      "execution_count": null,
      "outputs": []
    },
    {
      "cell_type": "code",
      "source": [
        "bagi = 0/0"
      ],
      "metadata": {
        "colab": {
          "base_uri": "https://localhost:8080/",
          "height": 165
        },
        "id": "tk2NPAPBUPhx",
        "outputId": "79777a2a-868c-46a8-d027-9d6bed1efb3a"
      },
      "execution_count": null,
      "outputs": [
        {
          "output_type": "error",
          "ename": "ZeroDivisionError",
          "evalue": "ignored",
          "traceback": [
            "\u001b[0;31m---------------------------------------------------------------------------\u001b[0m",
            "\u001b[0;31mZeroDivisionError\u001b[0m                         Traceback (most recent call last)",
            "\u001b[0;32m<ipython-input-4-8931eacbb53c>\u001b[0m in \u001b[0;36m<module>\u001b[0;34m()\u001b[0m\n\u001b[0;32m----> 1\u001b[0;31m \u001b[0mbagi\u001b[0m \u001b[0;34m=\u001b[0m \u001b[0;36m0\u001b[0m\u001b[0;34m/\u001b[0m\u001b[0;36m0\u001b[0m\u001b[0;34m\u001b[0m\u001b[0;34m\u001b[0m\u001b[0m\n\u001b[0m",
            "\u001b[0;31mZeroDivisionError\u001b[0m: division by zero"
          ]
        }
      ]
    },
    {
      "cell_type": "code",
      "source": [
        "x = 0\n",
        "\n",
        "try:\n",
        "  bagi = 0/0\n",
        "  print(bagi)\n",
        "except ZeroDivisionError:\n",
        "  print(\"tidak bisa dibagi dengan nol\")"
      ],
      "metadata": {
        "colab": {
          "base_uri": "https://localhost:8080/"
        },
        "id": "xEmYQdDQUThi",
        "outputId": "c50444db-e808-4eba-ad22-91f3ce6a9d54"
      },
      "execution_count": null,
      "outputs": [
        {
          "output_type": "stream",
          "name": "stdout",
          "text": [
            "tidak bisa dibagi dengan nol\n"
          ]
        }
      ]
    },
    {
      "cell_type": "markdown",
      "source": [
        "ZeroDivisionError is an exception that occurs when program execution results in a mathematical calculation of division by zero"
      ],
      "metadata": {
        "id": "2GhQ_0VkUr5Q"
      }
    },
    {
      "cell_type": "code",
      "source": [
        "open(\"file metematika.py\")"
      ],
      "metadata": {
        "colab": {
          "base_uri": "https://localhost:8080/",
          "height": 165
        },
        "id": "YLXm2QaMTJy5",
        "outputId": "87a779ae-f57e-4542-dd85-c9c6524ffe31"
      },
      "execution_count": null,
      "outputs": [
        {
          "output_type": "error",
          "ename": "FileNotFoundError",
          "evalue": "ignored",
          "traceback": [
            "\u001b[0;31m---------------------------------------------------------------------------\u001b[0m",
            "\u001b[0;31mFileNotFoundError\u001b[0m                         Traceback (most recent call last)",
            "\u001b[0;32m<ipython-input-2-4e3b083cb9c0>\u001b[0m in \u001b[0;36m<module>\u001b[0;34m()\u001b[0m\n\u001b[0;32m----> 1\u001b[0;31m \u001b[0mopen\u001b[0m\u001b[0;34m(\u001b[0m\u001b[0;34m\"file metematika.py\"\u001b[0m\u001b[0;34m)\u001b[0m\u001b[0;34m\u001b[0m\u001b[0;34m\u001b[0m\u001b[0m\n\u001b[0m",
            "\u001b[0;31mFileNotFoundError\u001b[0m: [Errno 2] No such file or directory: 'file metematika.py'"
          ]
        }
      ]
    },
    {
      "cell_type": "code",
      "source": [
        "try:\n",
        "  with open(\"file metematika.py\") as file:\n",
        "    print(file.read())\n",
        "except FileNotFoundError: \n",
        "  print(\"File tidak ditemukan\")"
      ],
      "metadata": {
        "colab": {
          "base_uri": "https://localhost:8080/"
        },
        "id": "NxNxlii_Uw5Y",
        "outputId": "b81dc66f-9c0b-484c-9f34-2a8919d645f9"
      },
      "execution_count": null,
      "outputs": [
        {
          "output_type": "stream",
          "name": "stdout",
          "text": [
            "File tidak ditemukan\n"
          ]
        }
      ]
    },
    {
      "cell_type": "code",
      "source": [
        "try:\n",
        "  with open(\"file_matematika.py\") as file:\n",
        "    print(file.read())\n",
        "except (FileNotFoundError, ):\n",
        "  print(\"file tidak dapat ditemukan\")"
      ],
      "metadata": {
        "colab": {
          "base_uri": "https://localhost:8080/"
        },
        "id": "kWTpkr2iV8TB",
        "outputId": "22081db4-0b5f-47fe-d3ff-391b9d948126"
      },
      "execution_count": null,
      "outputs": [
        {
          "output_type": "stream",
          "name": "stdout",
          "text": [
            "file tidak dapat ditemukan\n"
          ]
        }
      ]
    },
    {
      "cell_type": "markdown",
      "source": [
        "With a pair of try and except statements, the application does not stop but prints on the screen that the file was not found"
      ],
      "metadata": {
        "id": "3SMD9tcuZe1t"
      }
    },
    {
      "cell_type": "code",
      "source": [
        "s = {'nilai un':'90.0'}"
      ],
      "metadata": {
        "id": "j8FHpvriZh8D"
      },
      "execution_count": null,
      "outputs": []
    },
    {
      "cell_type": "code",
      "source": [
        "print('nilai un:{}'.format(s['nilae un']))"
      ],
      "metadata": {
        "colab": {
          "base_uri": "https://localhost:8080/",
          "height": 165
        },
        "id": "J8yGrUZ2cTRF",
        "outputId": "73f2ba67-e18b-484f-e652-31e73c63ed24"
      },
      "execution_count": null,
      "outputs": [
        {
          "output_type": "error",
          "ename": "KeyError",
          "evalue": "ignored",
          "traceback": [
            "\u001b[0;31m---------------------------------------------------------------------------\u001b[0m",
            "\u001b[0;31mKeyError\u001b[0m                                  Traceback (most recent call last)",
            "\u001b[0;32m<ipython-input-23-f40891a070b2>\u001b[0m in \u001b[0;36m<module>\u001b[0;34m()\u001b[0m\n\u001b[0;32m----> 1\u001b[0;31m \u001b[0mprint\u001b[0m\u001b[0;34m(\u001b[0m\u001b[0;34m'nilai un:{}'\u001b[0m\u001b[0;34m.\u001b[0m\u001b[0mformat\u001b[0m\u001b[0;34m(\u001b[0m\u001b[0ms\u001b[0m\u001b[0;34m[\u001b[0m\u001b[0;34m'nilae un'\u001b[0m\u001b[0;34m]\u001b[0m\u001b[0;34m)\u001b[0m\u001b[0;34m)\u001b[0m\u001b[0;34m\u001b[0m\u001b[0;34m\u001b[0m\u001b[0m\n\u001b[0m",
            "\u001b[0;31mKeyError\u001b[0m: 'nilae un'"
          ]
        }
      ]
    },
    {
      "cell_type": "code",
      "source": [
        "s = {'nilai un' : '90.0'}\n",
        "\n",
        "try:\n",
        "  print('nilai un:{}'.format(s['nilae un']))\n",
        "except KeyError:\n",
        "  print('Kata kunci salah')\n",
        "except ValueError:\n",
        "  print('Tidak ditemukan')"
      ],
      "metadata": {
        "colab": {
          "base_uri": "https://localhost:8080/"
        },
        "id": "xc-mZ6pzdddQ",
        "outputId": "a9d3084e-717f-41a1-ad17-48d8bd3148c8"
      },
      "execution_count": null,
      "outputs": [
        {
          "output_type": "stream",
          "name": "stdout",
          "text": [
            "Kata kunci salah\n"
          ]
        }
      ]
    },
    {
      "cell_type": "markdown",
      "source": [
        "In more complex applications, exception handling can use a single except statement that handles more than one type of error concatenated in a tuple."
      ],
      "metadata": {
        "id": "nPAySs4okyjs"
      }
    },
    {
      "cell_type": "code",
      "source": [
        "m = {'operasi matematika': '678+9'}\n",
        "\n",
        "print('operasi matematika: {}'.format(m['operasimatematika']/4))"
      ],
      "metadata": {
        "colab": {
          "base_uri": "https://localhost:8080/",
          "height": 200
        },
        "id": "i2914eX1k2kw",
        "outputId": "4b34462d-769c-4b63-cfd2-dc2f8501d12f"
      },
      "execution_count": null,
      "outputs": [
        {
          "output_type": "error",
          "ename": "KeyError",
          "evalue": "ignored",
          "traceback": [
            "\u001b[0;31m---------------------------------------------------------------------------\u001b[0m",
            "\u001b[0;31mKeyError\u001b[0m                                  Traceback (most recent call last)",
            "\u001b[0;32m<ipython-input-30-9baa43e0c96e>\u001b[0m in \u001b[0;36m<module>\u001b[0;34m()\u001b[0m\n\u001b[1;32m      1\u001b[0m \u001b[0mm\u001b[0m \u001b[0;34m=\u001b[0m \u001b[0;34m{\u001b[0m\u001b[0;34m'operasi matematika'\u001b[0m\u001b[0;34m:\u001b[0m \u001b[0;34m'678+9'\u001b[0m\u001b[0;34m}\u001b[0m\u001b[0;34m\u001b[0m\u001b[0;34m\u001b[0m\u001b[0m\n\u001b[1;32m      2\u001b[0m \u001b[0;34m\u001b[0m\u001b[0m\n\u001b[0;32m----> 3\u001b[0;31m \u001b[0mprint\u001b[0m\u001b[0;34m(\u001b[0m\u001b[0;34m'operasi matematika: {}'\u001b[0m\u001b[0;34m.\u001b[0m\u001b[0mformat\u001b[0m\u001b[0;34m(\u001b[0m\u001b[0mm\u001b[0m\u001b[0;34m[\u001b[0m\u001b[0;34m'operasimatematika'\u001b[0m\u001b[0;34m]\u001b[0m\u001b[0;34m/\u001b[0m\u001b[0;36m4\u001b[0m\u001b[0;34m)\u001b[0m\u001b[0;34m)\u001b[0m\u001b[0;34m\u001b[0m\u001b[0;34m\u001b[0m\u001b[0m\n\u001b[0m",
            "\u001b[0;31mKeyError\u001b[0m: 'operasimatematika'"
          ]
        }
      ]
    },
    {
      "cell_type": "code",
      "source": [
        "m = {'operasi matematika': '678+9'}\n",
        "\n",
        "try:\n",
        "  print('operasi matematika: {}'.format(m['operasimatematika']/4))D\n",
        "except KeyError:\n",
        "  print('hasil tidak ditemukan/error')\n",
        "except (ValueError, TypeError):\n",
        "  print('nilai atau tipe tidak sesuai')"
      ],
      "metadata": {
        "colab": {
          "base_uri": "https://localhost:8080/"
        },
        "id": "Z7sB5jNMk-Ef",
        "outputId": "a4994109-080a-4194-fc66-a2f0092d8d7f"
      },
      "execution_count": null,
      "outputs": [
        {
          "output_type": "stream",
          "name": "stdout",
          "text": [
            "hasil tidak ditemukan/error\n"
          ]
        }
      ]
    },
    {
      "cell_type": "code",
      "source": [
        "m = {'operasi matematika': '678+9'}\n",
        "\n",
        "try:\n",
        "  print('pembulatan operasi metematika: {}'.format(int(m['operasi matematika'])))\n",
        "except (ValueError, TypeError) as e:\n",
        "  print('penanganan kesalahan: {}'.format(e))"
      ],
      "metadata": {
        "colab": {
          "base_uri": "https://localhost:8080/"
        },
        "id": "o4W84AAllF3T",
        "outputId": "2fc7df25-43fb-4696-85ac-fe22fee6548d"
      },
      "execution_count": null,
      "outputs": [
        {
          "output_type": "stream",
          "name": "stdout",
          "text": [
            "penanganan kesalahan: invalid literal for int() with base 10: '678+9'\n"
          ]
        }
      ]
    },
    {
      "cell_type": "markdown",
      "source": [
        "#Function\n",
        "A function is a block of code that only runs when it is called. Python functions return a value using a return statement, if one is specified. A function can be called anywhere after the function has been declared."
      ],
      "metadata": {
        "id": "yWibRP79XaMt"
      }
    },
    {
      "cell_type": "code",
      "source": [
        "def square_root(x):\n",
        "    result = x**(1/2)\n",
        "    return result"
      ],
      "metadata": {
        "id": "BwOn-VvyXoMX"
      },
      "execution_count": null,
      "outputs": []
    },
    {
      "cell_type": "code",
      "source": [
        "square_root(25)"
      ],
      "metadata": {
        "colab": {
          "base_uri": "https://localhost:8080/"
        },
        "id": "YjN4QMbpdDc9",
        "outputId": "a620707f-16d9-4c21-9bda-55992be4cb48"
      },
      "execution_count": null,
      "outputs": [
        {
          "output_type": "execute_result",
          "data": {
            "text/plain": [
              "5.0"
            ]
          },
          "metadata": {},
          "execution_count": 2
        }
      ]
    },
    {
      "cell_type": "markdown",
      "source": [
        "#Return\n",
        "\n",
        "Return expression will make program execution exit the function"
      ],
      "metadata": {
        "id": "Le03hFbpdfaZ"
      }
    },
    {
      "cell_type": "code",
      "source": [
        "def addition(x,y):\n",
        "    plus = x + y\n",
        "    print(f\"The result of the sum of {x} and {y} is {plus}\")\n",
        "    return plus"
      ],
      "metadata": {
        "id": "Fg2SJ1HxdLVo"
      },
      "execution_count": null,
      "outputs": []
    },
    {
      "cell_type": "code",
      "source": [
        "addition(5, 3)"
      ],
      "metadata": {
        "colab": {
          "base_uri": "https://localhost:8080/"
        },
        "id": "-LTnMF4Hd8K8",
        "outputId": "274be2b6-6b9b-4565-97b7-fb65320e83b6"
      },
      "execution_count": null,
      "outputs": [
        {
          "output_type": "stream",
          "name": "stdout",
          "text": [
            "The result of the sum of 5 and 3 is 8\n"
          ]
        },
        {
          "output_type": "execute_result",
          "data": {
            "text/plain": [
              "8"
            ]
          },
          "metadata": {},
          "execution_count": 5
        }
      ]
    },
    {
      "cell_type": "code",
      "source": [
        "output = addition(5, 3) #save the result into a variable\n",
        "print(f\"The result from return is {output}\")"
      ],
      "metadata": {
        "colab": {
          "base_uri": "https://localhost:8080/"
        },
        "id": "uDvdjg08eCv_",
        "outputId": "55eaa646-14dd-4c39-c697-e16f730bb31f"
      },
      "execution_count": null,
      "outputs": [
        {
          "output_type": "stream",
          "name": "stdout",
          "text": [
            "The result of the sum of 5 and 3 is 8\n",
            "The result from return is 8\n"
          ]
        }
      ]
    },
    {
      "cell_type": "code",
      "source": [
        "square_root(16)"
      ],
      "metadata": {
        "colab": {
          "base_uri": "https://localhost:8080/"
        },
        "id": "0FSrfmwDePgb",
        "outputId": "70322b38-ab21-4e09-b78f-8ae36b1ae80f"
      },
      "execution_count": null,
      "outputs": [
        {
          "output_type": "execute_result",
          "data": {
            "text/plain": [
              "4.0"
            ]
          },
          "metadata": {},
          "execution_count": 9
        }
      ]
    },
    {
      "cell_type": "code",
      "source": [
        "num = 16\n",
        "result = square_root(num) # A function can accept a value that has been stored in a variable\n",
        "print(f\"Square root of {num} is {result}\")"
      ],
      "metadata": {
        "colab": {
          "base_uri": "https://localhost:8080/"
        },
        "id": "_eFqU0O1eqZg",
        "outputId": "59472048-70c1-4025-d24e-7c2c4f149a4b"
      },
      "execution_count": null,
      "outputs": [
        {
          "output_type": "stream",
          "name": "stdout",
          "text": [
            "Square root of 16 is 4.0\n"
          ]
        }
      ]
    },
    {
      "cell_type": "markdown",
      "source": [
        "##Pass by reference vs value\n",
        "* All parameters (arguments) in the python language are \"passed by reference\". This means that when we change a variable, the data that refers to it will also change, both inside the function and outside the calling function.\n",
        "\n",
        "* Unless we perform an assignment operation that changes the reference parameter."
      ],
      "metadata": {
        "id": "GeS7kmDLfXAW"
      }
    },
    {
      "cell_type": "code",
      "source": [
        "def number(list_num):\n",
        "    list_num = [2, 4, 6]\n",
        "    print(f'List value in local function is {list_num}')\n",
        "\n",
        "list_num = [1, 3, 5]\n",
        "number(list_num)\n",
        "print(f'List value outside the function (global) is {list_num}')"
      ],
      "metadata": {
        "colab": {
          "base_uri": "https://localhost:8080/"
        },
        "id": "uHDETrfCevf7",
        "outputId": "3b5ea704-874d-4c6f-e4f3-71b0a650981a"
      },
      "execution_count": null,
      "outputs": [
        {
          "output_type": "stream",
          "name": "stdout",
          "text": [
            "List value in local function is [2, 4, 6]\n",
            "List value outside the function (global) is [1, 3, 5]\n"
          ]
        }
      ]
    },
    {
      "cell_type": "code",
      "source": [
        "def number(list_num):\n",
        "    list_num = [2, 4, 6]\n",
        "    list_num.extend ([1, 3, 5]) #input the odd number\n",
        "    print(f'List value in local function is {list_num}')\n",
        "\n",
        "list_num = [1, 3, 5]\n",
        "number(list_num)\n",
        "print(f'List value outside the function (global) is {list_num}')"
      ],
      "metadata": {
        "colab": {
          "base_uri": "https://localhost:8080/"
        },
        "id": "tnUrw2xOg1rV",
        "outputId": "25f18a1d-887b-467a-84d2-c1729e750a0c"
      },
      "execution_count": null,
      "outputs": [
        {
          "output_type": "stream",
          "name": "stdout",
          "text": [
            "List value in local function is [2, 4, 6, 1, 3, 5]\n",
            "List value outside the function (global) is [1, 3, 5]\n"
          ]
        }
      ]
    },
    {
      "cell_type": "markdown",
      "source": [
        "##Argumen and Parameter\n",
        "\n",
        "\n",
        "Arguments that can be passed to the function. \n",
        "\n",
        "As values ​​to be entered when the function is called, there are two types of arguments:\n",
        "* **Keyword Arguments**, namely arguments that are accompanied by an identifier or parameter name that is explicitly stated. This includes if we pass values ​​through a dictionary that begins with two *(**)"
      ],
      "metadata": {
        "id": "RIV2UNGnhRxn"
      }
    },
    {
      "cell_type": "code",
      "source": [
        "def  birthday (day, month, year):\n",
        "    date = f\"I was born on {day} {month} {year}\"\n",
        "    return date\n",
        "\n",
        "birthday (day=2, month='April', year=2000)"
      ],
      "metadata": {
        "colab": {
          "base_uri": "https://localhost:8080/",
          "height": 36
        },
        "id": "1rsQ3qaJhPxt",
        "outputId": "e00a9976-68a6-4297-a11c-62e31ce16899"
      },
      "execution_count": null,
      "outputs": [
        {
          "output_type": "execute_result",
          "data": {
            "text/plain": [
              "'I was born on 2 April 2000'"
            ],
            "application/vnd.google.colaboratory.intrinsic+json": {
              "type": "string"
            }
          },
          "metadata": {},
          "execution_count": 17
        }
      ]
    }
  ]
}